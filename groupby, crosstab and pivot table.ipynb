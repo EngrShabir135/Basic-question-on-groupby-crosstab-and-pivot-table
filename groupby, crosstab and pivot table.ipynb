{
 "cells": [
  {
   "cell_type": "code",
   "execution_count": 1,
   "id": "d430952c",
   "metadata": {},
   "outputs": [],
   "source": [
    "import pandas as pd\n",
    "import numpy as np\n",
    "import matplotlib.pyplot as plt\n",
    "import seaborn as sns"
   ]
  },
  {
   "cell_type": "code",
   "execution_count": 2,
   "id": "0d20a013",
   "metadata": {},
   "outputs": [],
   "source": [
    "df=pd.read_csv(\"train.csv\")"
   ]
  },
  {
   "cell_type": "code",
   "execution_count": 3,
   "id": "2e54bd33",
   "metadata": {},
   "outputs": [
    {
     "data": {
      "text/html": [
       "<div>\n",
       "<style scoped>\n",
       "    .dataframe tbody tr th:only-of-type {\n",
       "        vertical-align: middle;\n",
       "    }\n",
       "\n",
       "    .dataframe tbody tr th {\n",
       "        vertical-align: top;\n",
       "    }\n",
       "\n",
       "    .dataframe thead th {\n",
       "        text-align: right;\n",
       "    }\n",
       "</style>\n",
       "<table border=\"1\" class=\"dataframe\">\n",
       "  <thead>\n",
       "    <tr style=\"text-align: right;\">\n",
       "      <th></th>\n",
       "      <th>PassengerId</th>\n",
       "      <th>Survived</th>\n",
       "      <th>Pclass</th>\n",
       "      <th>Name</th>\n",
       "      <th>Sex</th>\n",
       "      <th>Age</th>\n",
       "      <th>SibSp</th>\n",
       "      <th>Parch</th>\n",
       "      <th>Ticket</th>\n",
       "      <th>Fare</th>\n",
       "      <th>Cabin</th>\n",
       "      <th>Embarked</th>\n",
       "    </tr>\n",
       "  </thead>\n",
       "  <tbody>\n",
       "    <tr>\n",
       "      <th>0</th>\n",
       "      <td>1</td>\n",
       "      <td>0</td>\n",
       "      <td>3</td>\n",
       "      <td>Braund, Mr. Owen Harris</td>\n",
       "      <td>male</td>\n",
       "      <td>22.0</td>\n",
       "      <td>1</td>\n",
       "      <td>0</td>\n",
       "      <td>A/5 21171</td>\n",
       "      <td>7.2500</td>\n",
       "      <td>NaN</td>\n",
       "      <td>S</td>\n",
       "    </tr>\n",
       "    <tr>\n",
       "      <th>1</th>\n",
       "      <td>2</td>\n",
       "      <td>1</td>\n",
       "      <td>1</td>\n",
       "      <td>Cumings, Mrs. John Bradley (Florence Briggs Th...</td>\n",
       "      <td>female</td>\n",
       "      <td>38.0</td>\n",
       "      <td>1</td>\n",
       "      <td>0</td>\n",
       "      <td>PC 17599</td>\n",
       "      <td>71.2833</td>\n",
       "      <td>C85</td>\n",
       "      <td>C</td>\n",
       "    </tr>\n",
       "    <tr>\n",
       "      <th>2</th>\n",
       "      <td>3</td>\n",
       "      <td>1</td>\n",
       "      <td>3</td>\n",
       "      <td>Heikkinen, Miss. Laina</td>\n",
       "      <td>female</td>\n",
       "      <td>26.0</td>\n",
       "      <td>0</td>\n",
       "      <td>0</td>\n",
       "      <td>STON/O2. 3101282</td>\n",
       "      <td>7.9250</td>\n",
       "      <td>NaN</td>\n",
       "      <td>S</td>\n",
       "    </tr>\n",
       "    <tr>\n",
       "      <th>3</th>\n",
       "      <td>4</td>\n",
       "      <td>1</td>\n",
       "      <td>1</td>\n",
       "      <td>Futrelle, Mrs. Jacques Heath (Lily May Peel)</td>\n",
       "      <td>female</td>\n",
       "      <td>35.0</td>\n",
       "      <td>1</td>\n",
       "      <td>0</td>\n",
       "      <td>113803</td>\n",
       "      <td>53.1000</td>\n",
       "      <td>C123</td>\n",
       "      <td>S</td>\n",
       "    </tr>\n",
       "    <tr>\n",
       "      <th>4</th>\n",
       "      <td>5</td>\n",
       "      <td>0</td>\n",
       "      <td>3</td>\n",
       "      <td>Allen, Mr. William Henry</td>\n",
       "      <td>male</td>\n",
       "      <td>35.0</td>\n",
       "      <td>0</td>\n",
       "      <td>0</td>\n",
       "      <td>373450</td>\n",
       "      <td>8.0500</td>\n",
       "      <td>NaN</td>\n",
       "      <td>S</td>\n",
       "    </tr>\n",
       "  </tbody>\n",
       "</table>\n",
       "</div>"
      ],
      "text/plain": [
       "   PassengerId  Survived  Pclass  \\\n",
       "0            1         0       3   \n",
       "1            2         1       1   \n",
       "2            3         1       3   \n",
       "3            4         1       1   \n",
       "4            5         0       3   \n",
       "\n",
       "                                                Name     Sex   Age  SibSp  \\\n",
       "0                            Braund, Mr. Owen Harris    male  22.0      1   \n",
       "1  Cumings, Mrs. John Bradley (Florence Briggs Th...  female  38.0      1   \n",
       "2                             Heikkinen, Miss. Laina  female  26.0      0   \n",
       "3       Futrelle, Mrs. Jacques Heath (Lily May Peel)  female  35.0      1   \n",
       "4                           Allen, Mr. William Henry    male  35.0      0   \n",
       "\n",
       "   Parch            Ticket     Fare Cabin Embarked  \n",
       "0      0         A/5 21171   7.2500   NaN        S  \n",
       "1      0          PC 17599  71.2833   C85        C  \n",
       "2      0  STON/O2. 3101282   7.9250   NaN        S  \n",
       "3      0            113803  53.1000  C123        S  \n",
       "4      0            373450   8.0500   NaN        S  "
      ]
     },
     "execution_count": 3,
     "metadata": {},
     "output_type": "execute_result"
    }
   ],
   "source": [
    "df.head()"
   ]
  },
  {
   "cell_type": "markdown",
   "id": "486e6882",
   "metadata": {},
   "source": [
    "# Group By"
   ]
  },
  {
   "cell_type": "markdown",
   "id": "9df1c087",
   "metadata": {},
   "source": [
    "1. How many passengers survived, grouped by passenger class (Pclass)?"
   ]
  },
  {
   "cell_type": "code",
   "execution_count": 4,
   "id": "ca42565e",
   "metadata": {},
   "outputs": [
    {
     "data": {
      "text/html": [
       "<div>\n",
       "<style scoped>\n",
       "    .dataframe tbody tr th:only-of-type {\n",
       "        vertical-align: middle;\n",
       "    }\n",
       "\n",
       "    .dataframe tbody tr th {\n",
       "        vertical-align: top;\n",
       "    }\n",
       "\n",
       "    .dataframe thead th {\n",
       "        text-align: right;\n",
       "    }\n",
       "</style>\n",
       "<table border=\"1\" class=\"dataframe\">\n",
       "  <thead>\n",
       "    <tr style=\"text-align: right;\">\n",
       "      <th></th>\n",
       "      <th>Pclass</th>\n",
       "      <th>Survived</th>\n",
       "      <th>Passenger_Count</th>\n",
       "    </tr>\n",
       "  </thead>\n",
       "  <tbody>\n",
       "    <tr>\n",
       "      <th>0</th>\n",
       "      <td>1</td>\n",
       "      <td>0</td>\n",
       "      <td>80</td>\n",
       "    </tr>\n",
       "    <tr>\n",
       "      <th>1</th>\n",
       "      <td>1</td>\n",
       "      <td>1</td>\n",
       "      <td>136</td>\n",
       "    </tr>\n",
       "    <tr>\n",
       "      <th>2</th>\n",
       "      <td>2</td>\n",
       "      <td>0</td>\n",
       "      <td>97</td>\n",
       "    </tr>\n",
       "    <tr>\n",
       "      <th>3</th>\n",
       "      <td>2</td>\n",
       "      <td>1</td>\n",
       "      <td>87</td>\n",
       "    </tr>\n",
       "    <tr>\n",
       "      <th>4</th>\n",
       "      <td>3</td>\n",
       "      <td>0</td>\n",
       "      <td>372</td>\n",
       "    </tr>\n",
       "    <tr>\n",
       "      <th>5</th>\n",
       "      <td>3</td>\n",
       "      <td>1</td>\n",
       "      <td>119</td>\n",
       "    </tr>\n",
       "  </tbody>\n",
       "</table>\n",
       "</div>"
      ],
      "text/plain": [
       "   Pclass  Survived  Passenger_Count\n",
       "0       1         0               80\n",
       "1       1         1              136\n",
       "2       2         0               97\n",
       "3       2         1               87\n",
       "4       3         0              372\n",
       "5       3         1              119"
      ]
     },
     "execution_count": 4,
     "metadata": {},
     "output_type": "execute_result"
    }
   ],
   "source": [
    "df.groupby(['Pclass','Survived']).size().reset_index(name='Passenger_Count')"
   ]
  },
  {
   "cell_type": "markdown",
   "id": "deb9a70c",
   "metadata": {},
   "source": [
    "<p> _____________________________________</p>"
   ]
  },
  {
   "cell_type": "markdown",
   "id": "841f644f",
   "metadata": {},
   "source": [
    "2. What is the average age of passengers, grouped by survival status (Survived)?"
   ]
  },
  {
   "cell_type": "code",
   "execution_count": 5,
   "id": "35507e90",
   "metadata": {},
   "outputs": [
    {
     "data": {
      "text/html": [
       "<div>\n",
       "<style scoped>\n",
       "    .dataframe tbody tr th:only-of-type {\n",
       "        vertical-align: middle;\n",
       "    }\n",
       "\n",
       "    .dataframe tbody tr th {\n",
       "        vertical-align: top;\n",
       "    }\n",
       "\n",
       "    .dataframe thead th {\n",
       "        text-align: right;\n",
       "    }\n",
       "</style>\n",
       "<table border=\"1\" class=\"dataframe\">\n",
       "  <thead>\n",
       "    <tr style=\"text-align: right;\">\n",
       "      <th></th>\n",
       "      <th>Survived</th>\n",
       "      <th>avg_age</th>\n",
       "    </tr>\n",
       "  </thead>\n",
       "  <tbody>\n",
       "    <tr>\n",
       "      <th>0</th>\n",
       "      <td>0</td>\n",
       "      <td>30.626179</td>\n",
       "    </tr>\n",
       "    <tr>\n",
       "      <th>1</th>\n",
       "      <td>1</td>\n",
       "      <td>28.343690</td>\n",
       "    </tr>\n",
       "  </tbody>\n",
       "</table>\n",
       "</div>"
      ],
      "text/plain": [
       "   Survived    avg_age\n",
       "0         0  30.626179\n",
       "1         1  28.343690"
      ]
     },
     "execution_count": 5,
     "metadata": {},
     "output_type": "execute_result"
    }
   ],
   "source": [
    "df.groupby('Survived')['Age'].mean().reset_index(name=\"avg_age\")"
   ]
  },
  {
   "cell_type": "markdown",
   "id": "36891ce5",
   "metadata": {},
   "source": [
    "<p> _____________________________________</p>"
   ]
  },
  {
   "cell_type": "markdown",
   "id": "b22889d5",
   "metadata": {},
   "source": [
    "3. What is the total fare collected from each embarkation point (Embarked)?"
   ]
  },
  {
   "cell_type": "code",
   "execution_count": 6,
   "id": "d212d827",
   "metadata": {},
   "outputs": [
    {
     "data": {
      "text/html": [
       "<div>\n",
       "<style scoped>\n",
       "    .dataframe tbody tr th:only-of-type {\n",
       "        vertical-align: middle;\n",
       "    }\n",
       "\n",
       "    .dataframe tbody tr th {\n",
       "        vertical-align: top;\n",
       "    }\n",
       "\n",
       "    .dataframe thead th {\n",
       "        text-align: right;\n",
       "    }\n",
       "</style>\n",
       "<table border=\"1\" class=\"dataframe\">\n",
       "  <thead>\n",
       "    <tr style=\"text-align: right;\">\n",
       "      <th></th>\n",
       "      <th>Embarked</th>\n",
       "      <th>Total fare</th>\n",
       "    </tr>\n",
       "  </thead>\n",
       "  <tbody>\n",
       "    <tr>\n",
       "      <th>0</th>\n",
       "      <td>C</td>\n",
       "      <td>10072.2962</td>\n",
       "    </tr>\n",
       "    <tr>\n",
       "      <th>1</th>\n",
       "      <td>Q</td>\n",
       "      <td>1022.2543</td>\n",
       "    </tr>\n",
       "    <tr>\n",
       "      <th>2</th>\n",
       "      <td>S</td>\n",
       "      <td>17439.3988</td>\n",
       "    </tr>\n",
       "  </tbody>\n",
       "</table>\n",
       "</div>"
      ],
      "text/plain": [
       "  Embarked  Total fare\n",
       "0        C  10072.2962\n",
       "1        Q   1022.2543\n",
       "2        S  17439.3988"
      ]
     },
     "execution_count": 6,
     "metadata": {},
     "output_type": "execute_result"
    }
   ],
   "source": [
    "df.groupby('Embarked')['Fare'].sum().reset_index(name='Total fare')"
   ]
  },
  {
   "cell_type": "markdown",
   "id": "fd2580da",
   "metadata": {},
   "source": [
    "<p> _____________________________________</p>"
   ]
  },
  {
   "cell_type": "markdown",
   "id": "369e576f",
   "metadata": {},
   "source": [
    "4. How many male and female passengers were there, grouped by passenger class (Pclass)?"
   ]
  },
  {
   "cell_type": "code",
   "execution_count": 7,
   "id": "e7368fed",
   "metadata": {},
   "outputs": [
    {
     "data": {
      "text/html": [
       "<div>\n",
       "<style scoped>\n",
       "    .dataframe tbody tr th:only-of-type {\n",
       "        vertical-align: middle;\n",
       "    }\n",
       "\n",
       "    .dataframe tbody tr th {\n",
       "        vertical-align: top;\n",
       "    }\n",
       "\n",
       "    .dataframe thead th {\n",
       "        text-align: right;\n",
       "    }\n",
       "</style>\n",
       "<table border=\"1\" class=\"dataframe\">\n",
       "  <thead>\n",
       "    <tr style=\"text-align: right;\">\n",
       "      <th></th>\n",
       "      <th>Pclass</th>\n",
       "      <th>Sex</th>\n",
       "      <th>passenger count</th>\n",
       "    </tr>\n",
       "  </thead>\n",
       "  <tbody>\n",
       "    <tr>\n",
       "      <th>0</th>\n",
       "      <td>1</td>\n",
       "      <td>female</td>\n",
       "      <td>94</td>\n",
       "    </tr>\n",
       "    <tr>\n",
       "      <th>1</th>\n",
       "      <td>1</td>\n",
       "      <td>male</td>\n",
       "      <td>122</td>\n",
       "    </tr>\n",
       "    <tr>\n",
       "      <th>2</th>\n",
       "      <td>2</td>\n",
       "      <td>female</td>\n",
       "      <td>76</td>\n",
       "    </tr>\n",
       "    <tr>\n",
       "      <th>3</th>\n",
       "      <td>2</td>\n",
       "      <td>male</td>\n",
       "      <td>108</td>\n",
       "    </tr>\n",
       "    <tr>\n",
       "      <th>4</th>\n",
       "      <td>3</td>\n",
       "      <td>female</td>\n",
       "      <td>144</td>\n",
       "    </tr>\n",
       "    <tr>\n",
       "      <th>5</th>\n",
       "      <td>3</td>\n",
       "      <td>male</td>\n",
       "      <td>347</td>\n",
       "    </tr>\n",
       "  </tbody>\n",
       "</table>\n",
       "</div>"
      ],
      "text/plain": [
       "   Pclass     Sex  passenger count\n",
       "0       1  female               94\n",
       "1       1    male              122\n",
       "2       2  female               76\n",
       "3       2    male              108\n",
       "4       3  female              144\n",
       "5       3    male              347"
      ]
     },
     "execution_count": 7,
     "metadata": {},
     "output_type": "execute_result"
    }
   ],
   "source": [
    "df.groupby(['Pclass','Sex']).size().reset_index(name=\"passenger count\")"
   ]
  },
  {
   "cell_type": "markdown",
   "id": "1f84e80d",
   "metadata": {},
   "source": [
    "<p> ________________________________________</p>"
   ]
  },
  {
   "cell_type": "markdown",
   "id": "36e50411",
   "metadata": {},
   "source": [
    "5. What is the average fare paid by passengers, grouped by the number of siblings/spouses aboard (SibSp)?"
   ]
  },
  {
   "cell_type": "code",
   "execution_count": 10,
   "id": "b45c513e",
   "metadata": {},
   "outputs": [
    {
     "data": {
      "text/plain": [
       "SibSp\n",
       "0    25.692028\n",
       "1    44.147370\n",
       "2    51.753718\n",
       "3    68.908862\n",
       "4    31.855556\n",
       "5    46.900000\n",
       "8    69.550000\n",
       "Name: Fare, dtype: float64"
      ]
     },
     "execution_count": 10,
     "metadata": {},
     "output_type": "execute_result"
    }
   ],
   "source": [
    "df.groupby('SibSp')['Fare'].mean()"
   ]
  },
  {
   "cell_type": "markdown",
   "id": "65dc9e5c",
   "metadata": {},
   "source": [
    "<p> __________________________________</p>"
   ]
  },
  {
   "cell_type": "markdown",
   "id": "35fb38da",
   "metadata": {},
   "source": [
    "6. How many passengers survived, grouped by their embarkation port (Embarked)?"
   ]
  },
  {
   "cell_type": "code",
   "execution_count": 16,
   "id": "bac81e49",
   "metadata": {},
   "outputs": [
    {
     "data": {
      "text/html": [
       "<div>\n",
       "<style scoped>\n",
       "    .dataframe tbody tr th:only-of-type {\n",
       "        vertical-align: middle;\n",
       "    }\n",
       "\n",
       "    .dataframe tbody tr th {\n",
       "        vertical-align: top;\n",
       "    }\n",
       "\n",
       "    .dataframe thead th {\n",
       "        text-align: right;\n",
       "    }\n",
       "</style>\n",
       "<table border=\"1\" class=\"dataframe\">\n",
       "  <thead>\n",
       "    <tr style=\"text-align: right;\">\n",
       "      <th></th>\n",
       "      <th>Survived</th>\n",
       "      <th>Embarked</th>\n",
       "      <th>Total Survived</th>\n",
       "    </tr>\n",
       "  </thead>\n",
       "  <tbody>\n",
       "    <tr>\n",
       "      <th>0</th>\n",
       "      <td>0</td>\n",
       "      <td>C</td>\n",
       "      <td>75</td>\n",
       "    </tr>\n",
       "    <tr>\n",
       "      <th>1</th>\n",
       "      <td>0</td>\n",
       "      <td>Q</td>\n",
       "      <td>47</td>\n",
       "    </tr>\n",
       "    <tr>\n",
       "      <th>2</th>\n",
       "      <td>0</td>\n",
       "      <td>S</td>\n",
       "      <td>427</td>\n",
       "    </tr>\n",
       "    <tr>\n",
       "      <th>3</th>\n",
       "      <td>1</td>\n",
       "      <td>C</td>\n",
       "      <td>93</td>\n",
       "    </tr>\n",
       "    <tr>\n",
       "      <th>4</th>\n",
       "      <td>1</td>\n",
       "      <td>Q</td>\n",
       "      <td>30</td>\n",
       "    </tr>\n",
       "    <tr>\n",
       "      <th>5</th>\n",
       "      <td>1</td>\n",
       "      <td>S</td>\n",
       "      <td>217</td>\n",
       "    </tr>\n",
       "    <tr>\n",
       "      <th>6</th>\n",
       "      <td>1</td>\n",
       "      <td>most_frequent</td>\n",
       "      <td>2</td>\n",
       "    </tr>\n",
       "  </tbody>\n",
       "</table>\n",
       "</div>"
      ],
      "text/plain": [
       "   Survived       Embarked  Total Survived\n",
       "0         0              C              75\n",
       "1         0              Q              47\n",
       "2         0              S             427\n",
       "3         1              C              93\n",
       "4         1              Q              30\n",
       "5         1              S             217\n",
       "6         1  most_frequent               2"
      ]
     },
     "execution_count": 16,
     "metadata": {},
     "output_type": "execute_result"
    }
   ],
   "source": [
    "df.groupby(['Survived','Embarked']).size().reset_index(name=\"Total Survived\")"
   ]
  },
  {
   "cell_type": "markdown",
   "id": "0fefe485",
   "metadata": {},
   "source": [
    "<p> _____________________________________</p>"
   ]
  },
  {
   "cell_type": "markdown",
   "id": "dc0604a4",
   "metadata": {},
   "source": [
    "7. What is the average age of passengers, grouped by sex and survival status?"
   ]
  },
  {
   "cell_type": "code",
   "execution_count": 17,
   "id": "141a83c4",
   "metadata": {},
   "outputs": [
    {
     "data": {
      "text/plain": [
       "Sex     Survived\n",
       "female  0           25.046875\n",
       "        1           28.847716\n",
       "male    0           31.618056\n",
       "        1           27.276022\n",
       "Name: Age, dtype: float64"
      ]
     },
     "execution_count": 17,
     "metadata": {},
     "output_type": "execute_result"
    }
   ],
   "source": [
    "df.groupby(['Sex','Survived'])['Age'].mean()"
   ]
  },
  {
   "cell_type": "markdown",
   "id": "2714512e",
   "metadata": {},
   "source": [
    "<p> ____________________________</p>"
   ]
  },
  {
   "cell_type": "markdown",
   "id": "38ecca3a",
   "metadata": {},
   "source": [
    "8. How many passengers survived, grouped by the number of parents/children aboard (Parch)?"
   ]
  },
  {
   "cell_type": "code",
   "execution_count": 19,
   "id": "49ad7ce2",
   "metadata": {},
   "outputs": [
    {
     "data": {
      "text/html": [
       "<div>\n",
       "<style scoped>\n",
       "    .dataframe tbody tr th:only-of-type {\n",
       "        vertical-align: middle;\n",
       "    }\n",
       "\n",
       "    .dataframe tbody tr th {\n",
       "        vertical-align: top;\n",
       "    }\n",
       "\n",
       "    .dataframe thead th {\n",
       "        text-align: right;\n",
       "    }\n",
       "</style>\n",
       "<table border=\"1\" class=\"dataframe\">\n",
       "  <thead>\n",
       "    <tr style=\"text-align: right;\">\n",
       "      <th></th>\n",
       "      <th>Survived</th>\n",
       "      <th>Parch</th>\n",
       "      <th>Survived rate</th>\n",
       "    </tr>\n",
       "  </thead>\n",
       "  <tbody>\n",
       "    <tr>\n",
       "      <th>0</th>\n",
       "      <td>0</td>\n",
       "      <td>0</td>\n",
       "      <td>445</td>\n",
       "    </tr>\n",
       "    <tr>\n",
       "      <th>1</th>\n",
       "      <td>0</td>\n",
       "      <td>1</td>\n",
       "      <td>53</td>\n",
       "    </tr>\n",
       "    <tr>\n",
       "      <th>2</th>\n",
       "      <td>0</td>\n",
       "      <td>2</td>\n",
       "      <td>40</td>\n",
       "    </tr>\n",
       "    <tr>\n",
       "      <th>3</th>\n",
       "      <td>0</td>\n",
       "      <td>3</td>\n",
       "      <td>2</td>\n",
       "    </tr>\n",
       "    <tr>\n",
       "      <th>4</th>\n",
       "      <td>0</td>\n",
       "      <td>4</td>\n",
       "      <td>4</td>\n",
       "    </tr>\n",
       "    <tr>\n",
       "      <th>5</th>\n",
       "      <td>0</td>\n",
       "      <td>5</td>\n",
       "      <td>4</td>\n",
       "    </tr>\n",
       "    <tr>\n",
       "      <th>6</th>\n",
       "      <td>0</td>\n",
       "      <td>6</td>\n",
       "      <td>1</td>\n",
       "    </tr>\n",
       "    <tr>\n",
       "      <th>7</th>\n",
       "      <td>1</td>\n",
       "      <td>0</td>\n",
       "      <td>233</td>\n",
       "    </tr>\n",
       "    <tr>\n",
       "      <th>8</th>\n",
       "      <td>1</td>\n",
       "      <td>1</td>\n",
       "      <td>65</td>\n",
       "    </tr>\n",
       "    <tr>\n",
       "      <th>9</th>\n",
       "      <td>1</td>\n",
       "      <td>2</td>\n",
       "      <td>40</td>\n",
       "    </tr>\n",
       "    <tr>\n",
       "      <th>10</th>\n",
       "      <td>1</td>\n",
       "      <td>3</td>\n",
       "      <td>3</td>\n",
       "    </tr>\n",
       "    <tr>\n",
       "      <th>11</th>\n",
       "      <td>1</td>\n",
       "      <td>5</td>\n",
       "      <td>1</td>\n",
       "    </tr>\n",
       "  </tbody>\n",
       "</table>\n",
       "</div>"
      ],
      "text/plain": [
       "    Survived  Parch  Survived rate\n",
       "0          0      0            445\n",
       "1          0      1             53\n",
       "2          0      2             40\n",
       "3          0      3              2\n",
       "4          0      4              4\n",
       "5          0      5              4\n",
       "6          0      6              1\n",
       "7          1      0            233\n",
       "8          1      1             65\n",
       "9          1      2             40\n",
       "10         1      3              3\n",
       "11         1      5              1"
      ]
     },
     "execution_count": 19,
     "metadata": {},
     "output_type": "execute_result"
    }
   ],
   "source": [
    "df.groupby(['Survived','Parch']).size().reset_index(name=\"Survived rate\")"
   ]
  },
  {
   "cell_type": "markdown",
   "id": "daf55079",
   "metadata": {},
   "source": [
    "<p> _______________________________</p>"
   ]
  },
  {
   "cell_type": "markdown",
   "id": "bad53b1e",
   "metadata": {},
   "source": [
    "9. What is the total fare paid by each combination of Pclass and survival status (Survived)?"
   ]
  },
  {
   "cell_type": "code",
   "execution_count": 20,
   "id": "3093f497",
   "metadata": {},
   "outputs": [
    {
     "data": {
      "text/plain": [
       "Survived  Pclass\n",
       "0         1          5174.7206\n",
       "          2          1882.9958\n",
       "          3          5085.0035\n",
       "1         1         13002.6919\n",
       "          2          1918.8459\n",
       "          3          1629.6916\n",
       "Name: Fare, dtype: float64"
      ]
     },
     "execution_count": 20,
     "metadata": {},
     "output_type": "execute_result"
    }
   ],
   "source": [
    "df.groupby(['Survived',\"Pclass\"])['Fare'].sum()"
   ]
  },
  {
   "cell_type": "markdown",
   "id": "0117a4da",
   "metadata": {},
   "source": [
    "<p> _______________________________ </p>"
   ]
  },
  {
   "cell_type": "markdown",
   "id": "accd9271",
   "metadata": {},
   "source": [
    "10. How many passengers are in each age group, grouped by passenger class (Pclass)?"
   ]
  },
  {
   "cell_type": "code",
   "execution_count": 23,
   "id": "667e5061",
   "metadata": {},
   "outputs": [
    {
     "name": "stdout",
     "output_type": "stream",
     "text": [
      "Pclass  AgeGroup\n",
      "1       under 18     16\n",
      "        18-50       131\n",
      "        over 50      39\n",
      "2       under 18     29\n",
      "        18-50       129\n",
      "        over 50      15\n",
      "3       under 18     94\n",
      "        18-50       251\n",
      "        over 50      10\n",
      "Name: PassengerId, dtype: int64\n"
     ]
    }
   ],
   "source": [
    "# Create an 'AgeGroup' column by binning the 'Age' into categories\n",
    "df['AgeGroup'] = pd.cut(df['Age'], bins=[0, 18, 50, 100], labels=['under 18', '18-50', 'over 50'])\n",
    "\n",
    "# Group by 'Pclass' and 'AgeGroup' and count the number of passengers in each group\n",
    "passengers_by_age_group_pclass = df.groupby(['Pclass', 'AgeGroup'])['PassengerId'].count()\n",
    "\n",
    "# Display the result\n",
    "print(passengers_by_age_group_pclass)\n"
   ]
  },
  {
   "cell_type": "markdown",
   "id": "32da69c8",
   "metadata": {},
   "source": [
    "<p> _______________________________ </p>"
   ]
  },
  {
   "cell_type": "markdown",
   "id": "1635d455",
   "metadata": {},
   "source": [
    "# Crosstab"
   ]
  },
  {
   "cell_type": "markdown",
   "id": "4b32373f",
   "metadata": {},
   "source": [
    "1. What is the survival rate of passengers, based on their sex and passenger class (Pclass)?"
   ]
  },
  {
   "cell_type": "code",
   "execution_count": 8,
   "id": "e97587f4",
   "metadata": {},
   "outputs": [
    {
     "data": {
      "text/html": [
       "<div>\n",
       "<style scoped>\n",
       "    .dataframe tbody tr th:only-of-type {\n",
       "        vertical-align: middle;\n",
       "    }\n",
       "\n",
       "    .dataframe tbody tr th {\n",
       "        vertical-align: top;\n",
       "    }\n",
       "\n",
       "    .dataframe thead th {\n",
       "        text-align: right;\n",
       "    }\n",
       "</style>\n",
       "<table border=\"1\" class=\"dataframe\">\n",
       "  <thead>\n",
       "    <tr style=\"text-align: right;\">\n",
       "      <th>Pclass</th>\n",
       "      <th>1</th>\n",
       "      <th>2</th>\n",
       "      <th>3</th>\n",
       "    </tr>\n",
       "    <tr>\n",
       "      <th>Survived</th>\n",
       "      <th></th>\n",
       "      <th></th>\n",
       "      <th></th>\n",
       "    </tr>\n",
       "  </thead>\n",
       "  <tbody>\n",
       "    <tr>\n",
       "      <th>0</th>\n",
       "      <td>37.0</td>\n",
       "      <td>53.0</td>\n",
       "      <td>76.0</td>\n",
       "    </tr>\n",
       "    <tr>\n",
       "      <th>1</th>\n",
       "      <td>63.0</td>\n",
       "      <td>47.0</td>\n",
       "      <td>24.0</td>\n",
       "    </tr>\n",
       "  </tbody>\n",
       "</table>\n",
       "</div>"
      ],
      "text/plain": [
       "Pclass       1     2     3\n",
       "Survived                  \n",
       "0         37.0  53.0  76.0\n",
       "1         63.0  47.0  24.0"
      ]
     },
     "execution_count": 8,
     "metadata": {},
     "output_type": "execute_result"
    }
   ],
   "source": [
    "np.round(pd.crosstab(df['Survived'],df['Pclass'],normalize='columns')*100,0)"
   ]
  },
  {
   "cell_type": "markdown",
   "id": "f74c39f9",
   "metadata": {},
   "source": [
    "<p> ______________________________________</p>"
   ]
  },
  {
   "cell_type": "markdown",
   "id": "25de3e12",
   "metadata": {},
   "source": [
    "2. How does the number of passengers who survived vary by their embarkation port (Embarked) and passenger class (Pclass)?"
   ]
  },
  {
   "cell_type": "code",
   "execution_count": 11,
   "id": "eb7eb69d",
   "metadata": {},
   "outputs": [
    {
     "data": {
      "text/html": [
       "<div>\n",
       "<style scoped>\n",
       "    .dataframe tbody tr th:only-of-type {\n",
       "        vertical-align: middle;\n",
       "    }\n",
       "\n",
       "    .dataframe tbody tr th {\n",
       "        vertical-align: top;\n",
       "    }\n",
       "\n",
       "    .dataframe thead th {\n",
       "        text-align: right;\n",
       "    }\n",
       "</style>\n",
       "<table border=\"1\" class=\"dataframe\">\n",
       "  <thead>\n",
       "    <tr style=\"text-align: right;\">\n",
       "      <th>Embarked</th>\n",
       "      <th>C</th>\n",
       "      <th>Q</th>\n",
       "      <th>S</th>\n",
       "    </tr>\n",
       "    <tr>\n",
       "      <th>Survived</th>\n",
       "      <th></th>\n",
       "      <th></th>\n",
       "      <th></th>\n",
       "    </tr>\n",
       "  </thead>\n",
       "  <tbody>\n",
       "    <tr>\n",
       "      <th>0</th>\n",
       "      <td>45.0</td>\n",
       "      <td>61.0</td>\n",
       "      <td>66.0</td>\n",
       "    </tr>\n",
       "    <tr>\n",
       "      <th>1</th>\n",
       "      <td>55.0</td>\n",
       "      <td>39.0</td>\n",
       "      <td>34.0</td>\n",
       "    </tr>\n",
       "  </tbody>\n",
       "</table>\n",
       "</div>"
      ],
      "text/plain": [
       "Embarked     C     Q     S\n",
       "Survived                  \n",
       "0         45.0  61.0  66.0\n",
       "1         55.0  39.0  34.0"
      ]
     },
     "execution_count": 11,
     "metadata": {},
     "output_type": "execute_result"
    }
   ],
   "source": [
    "np.round(pd.crosstab(df['Survived'],df['Embarked'],normalize='columns')*100,0)"
   ]
  },
  {
   "cell_type": "markdown",
   "id": "3e60ae6b",
   "metadata": {},
   "source": [
    "<p> _______________________________________</p>"
   ]
  },
  {
   "cell_type": "markdown",
   "id": "3cc6ddf5",
   "metadata": {},
   "source": [
    "3. How many passengers survived, broken down by their number of siblings/spouses aboard (SibSp) and their sex?"
   ]
  },
  {
   "cell_type": "code",
   "execution_count": 16,
   "id": "72de0401",
   "metadata": {},
   "outputs": [
    {
     "data": {
      "text/html": [
       "<div>\n",
       "<style scoped>\n",
       "    .dataframe tbody tr th:only-of-type {\n",
       "        vertical-align: middle;\n",
       "    }\n",
       "\n",
       "    .dataframe tbody tr th {\n",
       "        vertical-align: top;\n",
       "    }\n",
       "\n",
       "    .dataframe thead th {\n",
       "        text-align: right;\n",
       "    }\n",
       "</style>\n",
       "<table border=\"1\" class=\"dataframe\">\n",
       "  <thead>\n",
       "    <tr style=\"text-align: right;\">\n",
       "      <th>Sex</th>\n",
       "      <th>female</th>\n",
       "      <th>male</th>\n",
       "    </tr>\n",
       "    <tr>\n",
       "      <th>SibSp</th>\n",
       "      <th></th>\n",
       "      <th></th>\n",
       "    </tr>\n",
       "  </thead>\n",
       "  <tbody>\n",
       "    <tr>\n",
       "      <th>0</th>\n",
       "      <td>137</td>\n",
       "      <td>73</td>\n",
       "    </tr>\n",
       "    <tr>\n",
       "      <th>1</th>\n",
       "      <td>80</td>\n",
       "      <td>32</td>\n",
       "    </tr>\n",
       "    <tr>\n",
       "      <th>2</th>\n",
       "      <td>10</td>\n",
       "      <td>3</td>\n",
       "    </tr>\n",
       "    <tr>\n",
       "      <th>3</th>\n",
       "      <td>4</td>\n",
       "      <td>0</td>\n",
       "    </tr>\n",
       "    <tr>\n",
       "      <th>4</th>\n",
       "      <td>2</td>\n",
       "      <td>1</td>\n",
       "    </tr>\n",
       "    <tr>\n",
       "      <th>5</th>\n",
       "      <td>0</td>\n",
       "      <td>0</td>\n",
       "    </tr>\n",
       "    <tr>\n",
       "      <th>8</th>\n",
       "      <td>0</td>\n",
       "      <td>0</td>\n",
       "    </tr>\n",
       "  </tbody>\n",
       "</table>\n",
       "</div>"
      ],
      "text/plain": [
       "Sex    female  male\n",
       "SibSp              \n",
       "0         137    73\n",
       "1          80    32\n",
       "2          10     3\n",
       "3           4     0\n",
       "4           2     1\n",
       "5           0     0\n",
       "8           0     0"
      ]
     },
     "execution_count": 16,
     "metadata": {},
     "output_type": "execute_result"
    }
   ],
   "source": [
    "pd.crosstab(df['SibSp'],df['Sex'],df['Survived'],aggfunc='sum')"
   ]
  },
  {
   "cell_type": "markdown",
   "id": "748bcc4e",
   "metadata": {},
   "source": [
    "<p> _______________________________ </p>"
   ]
  },
  {
   "cell_type": "markdown",
   "id": "3ffbb08e",
   "metadata": {},
   "source": [
    "4. What is the survival rate based on the number of parents/children aboard (Parch) and the class of the ticket (Pclass)?"
   ]
  },
  {
   "cell_type": "code",
   "execution_count": 5,
   "id": "c7055f51",
   "metadata": {},
   "outputs": [
    {
     "data": {
      "text/html": [
       "<div>\n",
       "<style scoped>\n",
       "    .dataframe tbody tr th:only-of-type {\n",
       "        vertical-align: middle;\n",
       "    }\n",
       "\n",
       "    .dataframe tbody tr th {\n",
       "        vertical-align: top;\n",
       "    }\n",
       "\n",
       "    .dataframe thead th {\n",
       "        text-align: right;\n",
       "    }\n",
       "</style>\n",
       "<table border=\"1\" class=\"dataframe\">\n",
       "  <thead>\n",
       "    <tr style=\"text-align: right;\">\n",
       "      <th>Pclass</th>\n",
       "      <th>1</th>\n",
       "      <th>2</th>\n",
       "      <th>3</th>\n",
       "    </tr>\n",
       "    <tr>\n",
       "      <th>Parch</th>\n",
       "      <th></th>\n",
       "      <th></th>\n",
       "      <th></th>\n",
       "    </tr>\n",
       "  </thead>\n",
       "  <tbody>\n",
       "    <tr>\n",
       "      <th>0</th>\n",
       "      <td>0.607362</td>\n",
       "      <td>0.358209</td>\n",
       "      <td>0.225722</td>\n",
       "    </tr>\n",
       "    <tr>\n",
       "      <th>1</th>\n",
       "      <td>0.677419</td>\n",
       "      <td>0.750000</td>\n",
       "      <td>0.363636</td>\n",
       "    </tr>\n",
       "    <tr>\n",
       "      <th>2</th>\n",
       "      <td>0.761905</td>\n",
       "      <td>0.812500</td>\n",
       "      <td>0.255814</td>\n",
       "    </tr>\n",
       "    <tr>\n",
       "      <th>3</th>\n",
       "      <td>NaN</td>\n",
       "      <td>1.000000</td>\n",
       "      <td>0.333333</td>\n",
       "    </tr>\n",
       "    <tr>\n",
       "      <th>4</th>\n",
       "      <td>0.000000</td>\n",
       "      <td>NaN</td>\n",
       "      <td>0.000000</td>\n",
       "    </tr>\n",
       "    <tr>\n",
       "      <th>5</th>\n",
       "      <td>NaN</td>\n",
       "      <td>NaN</td>\n",
       "      <td>0.200000</td>\n",
       "    </tr>\n",
       "    <tr>\n",
       "      <th>6</th>\n",
       "      <td>NaN</td>\n",
       "      <td>NaN</td>\n",
       "      <td>0.000000</td>\n",
       "    </tr>\n",
       "  </tbody>\n",
       "</table>\n",
       "</div>"
      ],
      "text/plain": [
       "Pclass         1         2         3\n",
       "Parch                               \n",
       "0       0.607362  0.358209  0.225722\n",
       "1       0.677419  0.750000  0.363636\n",
       "2       0.761905  0.812500  0.255814\n",
       "3            NaN  1.000000  0.333333\n",
       "4       0.000000       NaN  0.000000\n",
       "5            NaN       NaN  0.200000\n",
       "6            NaN       NaN  0.000000"
      ]
     },
     "execution_count": 5,
     "metadata": {},
     "output_type": "execute_result"
    }
   ],
   "source": [
    "pd.crosstab(df['Parch'],df['Pclass'],df['Survived'],aggfunc='mean')"
   ]
  },
  {
   "cell_type": "markdown",
   "id": "af1d6495",
   "metadata": {},
   "source": [
    "<p> _________________________________________ </p>"
   ]
  },
  {
   "cell_type": "markdown",
   "id": "09bb98c9",
   "metadata": {},
   "source": [
    "5. How many passengers survived, crosstabbed by their age group (e.g., under 18, 18-50, over 50) and sex?"
   ]
  },
  {
   "cell_type": "code",
   "execution_count": 6,
   "id": "9bb44ace",
   "metadata": {},
   "outputs": [
    {
     "name": "stdout",
     "output_type": "stream",
     "text": [
      "Sex       female  male\n",
      "AgeGroup              \n",
      "under 18      46    24\n",
      "18-50        135    63\n",
      "over 50       16     6\n"
     ]
    }
   ],
   "source": [
    "# Create an 'AgeGroup' column\n",
    "df['AgeGroup'] = pd.cut(df['Age'], bins=[0, 18, 50, 100], labels=['under 18', '18-50', 'over 50'])\n",
    "\n",
    "# Create a crosstab for the number of survivors by 'AgeGroup' and 'Sex'\n",
    "survived_agegroup_sex = pd.crosstab(df['AgeGroup'], df['Sex'], df['Survived'], aggfunc='sum')\n",
    "\n",
    "# Display the result\n",
    "print(survived_agegroup_sex)\n"
   ]
  },
  {
   "cell_type": "markdown",
   "id": "bda97d85",
   "metadata": {},
   "source": [
    "<p> ________________________________ </p>"
   ]
  },
  {
   "cell_type": "markdown",
   "id": "3aa2a469",
   "metadata": {},
   "source": [
    "6. How many passengers survived, crosstabbed by their ticket class (Pclass) and embarkation port (Embarked)?"
   ]
  },
  {
   "cell_type": "code",
   "execution_count": 7,
   "id": "f7d2d943",
   "metadata": {},
   "outputs": [
    {
     "name": "stdout",
     "output_type": "stream",
     "text": [
      "Embarked   C   Q   S\n",
      "Pclass              \n",
      "1         59   1  74\n",
      "2          9   2  76\n",
      "3         25  27  67\n"
     ]
    }
   ],
   "source": [
    "# Create a crosstab for the number of survivors by 'Pclass' and 'Embarked'\n",
    "survived_pclass_embarked = pd.crosstab(df['Pclass'], df['Embarked'], df['Survived'], aggfunc='sum')\n",
    "\n",
    "# Display the result\n",
    "print(survived_pclass_embarked)\n"
   ]
  },
  {
   "cell_type": "markdown",
   "id": "3ec69886",
   "metadata": {},
   "source": [
    "<p> _____________________________ </p>"
   ]
  },
  {
   "cell_type": "markdown",
   "id": "1c6c06dc",
   "metadata": {},
   "source": [
    "7. How does the survival count vary by age group and the number of siblings/spouses aboard (SibSp)?"
   ]
  },
  {
   "cell_type": "code",
   "execution_count": 8,
   "id": "c90d012e",
   "metadata": {},
   "outputs": [
    {
     "name": "stdout",
     "output_type": "stream",
     "text": [
      "SibSp       0   1  2  3  4  5  8\n",
      "AgeGroup                        \n",
      "under 18   35  26  6  0  3  0  0\n",
      "18-50     128  62  4  4  0  0  0\n",
      "over 50    12   9  1  0  0  0  0\n"
     ]
    }
   ],
   "source": [
    "# Create a crosstab for the number of survivors by 'AgeGroup' and 'SibSp'\n",
    "survived_agegroup_sibsp = pd.crosstab(df['AgeGroup'], df['SibSp'], df['Survived'], aggfunc='sum')\n",
    "\n",
    "# Display the result\n",
    "print(survived_agegroup_sibsp)\n"
   ]
  },
  {
   "cell_type": "markdown",
   "id": "c0e2ec44",
   "metadata": {},
   "source": [
    "<p> ____________________________ </p>"
   ]
  },
  {
   "cell_type": "markdown",
   "id": "1b3a0b8a",
   "metadata": {},
   "source": [
    "8. What is the survival rate of passengers, crosstabbed by their sex and the number of parents/children aboard (Parch)?"
   ]
  },
  {
   "cell_type": "code",
   "execution_count": 9,
   "id": "03ec2aa4",
   "metadata": {},
   "outputs": [
    {
     "name": "stdout",
     "output_type": "stream",
     "text": [
      "Parch          0         1         2     3    4     5    6\n",
      "Sex                                                       \n",
      "female  0.788660  0.766667  0.612245  0.75  0.0  0.25  0.0\n",
      "male    0.165289  0.327586  0.322581  0.00  0.0  0.00  NaN\n"
     ]
    }
   ],
   "source": [
    "# Create a crosstab to calculate the survival rate by 'Sex' and 'Parch'\n",
    "survival_rate_sex_parch = pd.crosstab(df['Sex'], df['Parch'], df['Survived'], aggfunc='mean')\n",
    "\n",
    "# Display the result\n",
    "print(survival_rate_sex_parch)\n"
   ]
  },
  {
   "cell_type": "markdown",
   "id": "204d1cf2",
   "metadata": {},
   "source": [
    "<p> _________________________________ </p>"
   ]
  },
  {
   "cell_type": "markdown",
   "id": "5f2e28b3",
   "metadata": {},
   "source": [
    "9. How many passengers survived, crosstabbed by their embarkation port (Embarked) and survival status (Survived)?"
   ]
  },
  {
   "cell_type": "code",
   "execution_count": 10,
   "id": "6321c071",
   "metadata": {},
   "outputs": [
    {
     "name": "stdout",
     "output_type": "stream",
     "text": [
      "Survived    0    1\n",
      "Embarked          \n",
      "C          75   93\n",
      "Q          47   30\n",
      "S         427  217\n"
     ]
    }
   ],
   "source": [
    "# Create a crosstab for the number of survivors by 'Embarked' and 'Survived'\n",
    "survived_embarked_status = pd.crosstab(df['Embarked'], df['Survived'])\n",
    "\n",
    "# Display the result\n",
    "print(survived_embarked_status)\n"
   ]
  },
  {
   "cell_type": "markdown",
   "id": "b0c63f9c",
   "metadata": {},
   "source": [
    "<p> _______________________ </p>"
   ]
  },
  {
   "cell_type": "markdown",
   "id": "aba1d343",
   "metadata": {},
   "source": [
    "10. How many passengers embarked at each port (Embarked), crosstabbed by their sex and passenger class (Pclass)?"
   ]
  },
  {
   "cell_type": "code",
   "execution_count": 11,
   "id": "ac3558da",
   "metadata": {},
   "outputs": [
    {
     "name": "stdout",
     "output_type": "stream",
     "text": [
      "Sex      female         male         \n",
      "Pclass        1   2   3    1   2    3\n",
      "Embarked                             \n",
      "C            43   7  23   42  10   43\n",
      "Q             1   2  33    1   1   39\n",
      "S            48  67  88   79  97  265\n"
     ]
    }
   ],
   "source": [
    "# Create a crosstab for the number of passengers by 'Embarked', 'Sex', and 'Pclass'\n",
    "embarked_sex_pclass = pd.crosstab(df['Embarked'], [df['Sex'], df['Pclass']])\n",
    "\n",
    "# Display the result\n",
    "print(embarked_sex_pclass)\n"
   ]
  },
  {
   "cell_type": "markdown",
   "id": "07e8f9fb",
   "metadata": {},
   "source": [
    "<p> ____________________________ </p>"
   ]
  },
  {
   "cell_type": "markdown",
   "id": "f122c11b",
   "metadata": {},
   "source": [
    "# Pivot Tabel"
   ]
  },
  {
   "cell_type": "markdown",
   "id": "900f0d59",
   "metadata": {},
   "source": [
    "1. Create a pivot table showing the average fare paid, grouped by passenger class (Pclass) and survival status (Survived)."
   ]
  },
  {
   "cell_type": "code",
   "execution_count": 12,
   "id": "9d1058c8",
   "metadata": {},
   "outputs": [
    {
     "name": "stdout",
     "output_type": "stream",
     "text": [
      "Survived          0          1\n",
      "Pclass                        \n",
      "1         64.684007  95.608029\n",
      "2         19.412328  22.055700\n",
      "3         13.669364  13.694887\n"
     ]
    }
   ],
   "source": [
    "# Create the pivot table\n",
    "pivot_avg_fare = pd.pivot_table(df, values='Fare', index='Pclass', columns='Survived', aggfunc='mean')\n",
    "\n",
    "# Display the result\n",
    "print(pivot_avg_fare)\n"
   ]
  },
  {
   "cell_type": "markdown",
   "id": "290527e9",
   "metadata": {},
   "source": [
    "<p> __________________________ </p>"
   ]
  },
  {
   "cell_type": "markdown",
   "id": "d8720d10",
   "metadata": {},
   "source": [
    "2. Create a pivot table showing the count of passengers by embarkation port (Embarked) and survival status (Survived)."
   ]
  },
  {
   "cell_type": "code",
   "execution_count": 13,
   "id": "5427dcb4",
   "metadata": {},
   "outputs": [
    {
     "name": "stdout",
     "output_type": "stream",
     "text": [
      "Survived    0    1\n",
      "Embarked          \n",
      "C          75   93\n",
      "Q          47   30\n",
      "S         427  217\n"
     ]
    }
   ],
   "source": [
    "# Create the pivot table\n",
    "pivot_count_passengers = pd.pivot_table(df, values='PassengerId', index='Embarked', columns='Survived', aggfunc='count')\n",
    "\n",
    "# Display the result\n",
    "print(pivot_count_passengers)\n"
   ]
  },
  {
   "cell_type": "markdown",
   "id": "35b75e74",
   "metadata": {},
   "source": [
    "<p> __________________________ </p>"
   ]
  },
  {
   "cell_type": "markdown",
   "id": "32f56c2e",
   "metadata": {},
   "source": [
    "3. Create a pivot table showing the average age of passengers, grouped by sex and passenger class (Pclass)."
   ]
  },
  {
   "cell_type": "code",
   "execution_count": 14,
   "id": "9fb47eb0",
   "metadata": {},
   "outputs": [
    {
     "name": "stdout",
     "output_type": "stream",
     "text": [
      "Pclass          1          2          3\n",
      "Sex                                    \n",
      "female  34.611765  28.722973  21.750000\n",
      "male    41.281386  30.740707  26.507589\n"
     ]
    }
   ],
   "source": [
    "# Create the pivot table\n",
    "pivot_avg_age = pd.pivot_table(df, values='Age', index='Sex', columns='Pclass', aggfunc='mean')\n",
    "\n",
    "# Display the result\n",
    "print(pivot_avg_age)\n"
   ]
  },
  {
   "cell_type": "markdown",
   "id": "06fdba89",
   "metadata": {},
   "source": [
    "<p> _____________________________ </p>"
   ]
  },
  {
   "cell_type": "markdown",
   "id": "6c5fdec8",
   "metadata": {},
   "source": [
    "4. Create a pivot table showing the total fare paid by passengers, grouped by the number of siblings/spouses aboard (SibSp) and their survival status (Survived)."
   ]
  },
  {
   "cell_type": "code",
   "execution_count": 15,
   "id": "b6e1714a",
   "metadata": {},
   "outputs": [
    {
     "name": "stdout",
     "output_type": "stream",
     "text": [
      "Survived          0          1\n",
      "SibSp                         \n",
      "0         6611.6071  9009.1459\n",
      "1         3256.1710  5970.6294\n",
      "2          511.2000   937.9041\n",
      "3          539.6918   562.8500\n",
      "4          502.7000    70.7000\n",
      "5          234.5000        NaN\n",
      "8          486.8500        NaN\n"
     ]
    }
   ],
   "source": [
    "# Create the pivot table\n",
    "pivot_total_fare = pd.pivot_table(df, values='Fare', index='SibSp', columns='Survived', aggfunc='sum')\n",
    "\n",
    "# Display the result\n",
    "print(pivot_total_fare)\n"
   ]
  },
  {
   "cell_type": "markdown",
   "id": "c77cc9ef",
   "metadata": {},
   "source": [
    "<p> ___________________________ </p>"
   ]
  },
  {
   "cell_type": "markdown",
   "id": "bd14004a",
   "metadata": {},
   "source": [
    "5. Create a pivot table showing the count of passengers, grouped by their passenger class (Pclass) and sex."
   ]
  },
  {
   "cell_type": "code",
   "execution_count": 16,
   "id": "f9c46b48",
   "metadata": {},
   "outputs": [
    {
     "name": "stdout",
     "output_type": "stream",
     "text": [
      "Sex     female  male\n",
      "Pclass              \n",
      "1           94   122\n",
      "2           76   108\n",
      "3          144   347\n"
     ]
    }
   ],
   "source": [
    "# Create the pivot table\n",
    "pivot_count_passengers_class_sex = pd.pivot_table(df, values='PassengerId', index='Pclass', columns='Sex', aggfunc='count')\n",
    "\n",
    "# Display the result\n",
    "print(pivot_count_passengers_class_sex)\n"
   ]
  },
  {
   "cell_type": "markdown",
   "id": "90eeab4e",
   "metadata": {},
   "source": [
    "<p> ________________________ </p>"
   ]
  },
  {
   "cell_type": "markdown",
   "id": "b839f3c0",
   "metadata": {},
   "source": [
    "6. Create a pivot table showing the average fare paid, grouped by the number of parents/children aboard (Parch) and survival status (Survived)."
   ]
  },
  {
   "cell_type": "code",
   "execution_count": 17,
   "id": "3c692a49",
   "metadata": {},
   "outputs": [
    {
     "name": "stdout",
     "output_type": "stream",
     "text": [
      "Survived          0          1\n",
      "Parch                         \n",
      "0         16.548124  42.849430\n",
      "1         37.111642  54.660126\n",
      "2         55.625000  73.050207\n",
      "3         34.375000  20.336100\n",
      "4         84.968750        NaN\n",
      "5         32.840625  31.387500\n",
      "6         46.900000        NaN\n"
     ]
    }
   ],
   "source": [
    "# Create the pivot table\n",
    "pivot_avg_fare_parch = pd.pivot_table(df, values='Fare', index='Parch', columns='Survived', aggfunc='mean')\n",
    "\n",
    "# Display the result\n",
    "print(pivot_avg_fare_parch)\n"
   ]
  },
  {
   "cell_type": "markdown",
   "id": "6942f583",
   "metadata": {},
   "source": [
    "<p> ______________________________ </p>"
   ]
  },
  {
   "cell_type": "markdown",
   "id": "024962d2",
   "metadata": {},
   "source": [
    "7. Create a pivot table showing the total count of passengers who embarked from each port (Embarked), grouped by survival status (Survived) and sex."
   ]
  },
  {
   "cell_type": "code",
   "execution_count": 18,
   "id": "c8373f9f",
   "metadata": {},
   "outputs": [
    {
     "name": "stdout",
     "output_type": "stream",
     "text": [
      "Survived      0           1     \n",
      "Sex      female male female male\n",
      "Embarked                        \n",
      "C             9   66     64   29\n",
      "Q             9   38     27    3\n",
      "S            63  364    140   77\n"
     ]
    }
   ],
   "source": [
    "# Create the pivot table\n",
    "pivot_count_embarked_sex = pd.pivot_table(df, values='PassengerId', index='Embarked', columns=['Survived', 'Sex'], aggfunc='count')\n",
    "\n",
    "# Display the result\n",
    "print(pivot_count_embarked_sex)\n"
   ]
  },
  {
   "cell_type": "markdown",
   "id": "45b795e0",
   "metadata": {},
   "source": [
    "<p> ____________________________ </p>"
   ]
  },
  {
   "cell_type": "markdown",
   "id": "66d3b319",
   "metadata": {},
   "source": [
    "8. Create a pivot table showing the survival count by passenger class (Pclass) and the number of siblings/spouses aboard (SibSp)."
   ]
  },
  {
   "cell_type": "code",
   "execution_count": 19,
   "id": "01c58032",
   "metadata": {},
   "outputs": [
    {
     "name": "stdout",
     "output_type": "stream",
     "text": [
      "SibSp       0     1     2     3     4    5    8\n",
      "Pclass                                         \n",
      "1       137.0  71.0   5.0   3.0   NaN  NaN  NaN\n",
      "2       120.0  55.0   8.0   1.0   NaN  NaN  NaN\n",
      "3       351.0  83.0  15.0  12.0  18.0  5.0  7.0\n"
     ]
    }
   ],
   "source": [
    "# Create the pivot table\n",
    "pivot_survival_sibsp_pclass = pd.pivot_table(df, values='PassengerId', index='Pclass', columns='SibSp', aggfunc='count')\n",
    "\n",
    "# Display the result\n",
    "print(pivot_survival_sibsp_pclass)\n"
   ]
  },
  {
   "cell_type": "markdown",
   "id": "b245ba9f",
   "metadata": {},
   "source": [
    "<p> ________________________ </p>"
   ]
  },
  {
   "cell_type": "markdown",
   "id": "563f9e28",
   "metadata": {},
   "source": [
    "9. Create a pivot table showing the average age of passengers, grouped by the number of parents/children aboard (Parch) and the class of their ticket (Pclass)."
   ]
  },
  {
   "cell_type": "code",
   "execution_count": 20,
   "id": "1067d5b7",
   "metadata": {},
   "outputs": [
    {
     "name": "stdout",
     "output_type": "stream",
     "text": [
      "Pclass          1          2          3\n",
      "Parch                                  \n",
      "0       39.906716  33.081301  27.835227\n",
      "1       41.266667  21.796875  15.644167\n",
      "2       21.996190  20.270625  12.403226\n",
      "3             NaN  39.000000  29.333333\n",
      "4       64.000000        NaN  38.000000\n",
      "5             NaN        NaN  39.200000\n",
      "6             NaN        NaN  43.000000\n"
     ]
    }
   ],
   "source": [
    "# Create the pivot table\n",
    "pivot_avg_age_parch_pclass = pd.pivot_table(df, values='Age', index='Parch', columns='Pclass', aggfunc='mean')\n",
    "\n",
    "# Display the result\n",
    "print(pivot_avg_age_parch_pclass)\n"
   ]
  },
  {
   "cell_type": "markdown",
   "id": "b5a624e9",
   "metadata": {},
   "source": [
    "<p> ____________________________ </p>"
   ]
  },
  {
   "cell_type": "markdown",
   "id": "c30df9bd",
   "metadata": {},
   "source": [
    "10. Create a pivot table showing the count of passengers, grouped by their age group (e.g., under 18, 18-50, over 50) and survival status (Survived)."
   ]
  },
  {
   "cell_type": "code",
   "execution_count": 21,
   "id": "5dd674bd",
   "metadata": {},
   "outputs": [
    {
     "name": "stdout",
     "output_type": "stream",
     "text": [
      "Survived    0    1\n",
      "AgeGroup          \n",
      "under 18   69   70\n",
      "18-50     313  198\n",
      "over 50    42   22\n"
     ]
    }
   ],
   "source": [
    "# Create an 'AgeGroup' column\n",
    "df['AgeGroup'] = pd.cut(df['Age'], bins=[0, 18, 50, 100], labels=['under 18', '18-50', 'over 50'])\n",
    "\n",
    "# Create the pivot table\n",
    "pivot_count_agegroup_survived = pd.pivot_table(df, values='PassengerId', index='AgeGroup', columns='Survived', aggfunc='count')\n",
    "\n",
    "# Display the result\n",
    "print(pivot_count_agegroup_survived)\n"
   ]
  },
  {
   "cell_type": "code",
   "execution_count": null,
   "id": "be477c86",
   "metadata": {},
   "outputs": [],
   "source": []
  }
 ],
 "metadata": {
  "kernelspec": {
   "display_name": "Python 3 (ipykernel)",
   "language": "python",
   "name": "python3"
  },
  "language_info": {
   "codemirror_mode": {
    "name": "ipython",
    "version": 3
   },
   "file_extension": ".py",
   "mimetype": "text/x-python",
   "name": "python",
   "nbconvert_exporter": "python",
   "pygments_lexer": "ipython3",
   "version": "3.9.13"
  }
 },
 "nbformat": 4,
 "nbformat_minor": 5
}
